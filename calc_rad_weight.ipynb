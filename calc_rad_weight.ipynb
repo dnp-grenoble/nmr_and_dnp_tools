{
 "cells": [
  {
   "cell_type": "markdown",
   "id": "5188479e-0e91-472e-bd93-3c0f12495f0a",
   "metadata": {},
   "source": [
    "## Calculate bi-radical weight in DNP Sample Preparation"
   ]
  },
  {
   "cell_type": "markdown",
   "id": "9eaf8803-661f-4dc6-81ef-f8e039d6a436",
   "metadata": {},
   "source": [
    "### Definitions"
   ]
  },
  {
   "cell_type": "code",
   "execution_count": 1,
   "id": "ff8b72be-46f6-4df1-be94-05273ca5e7e2",
   "metadata": {},
   "outputs": [],
   "source": [
    "import pandas as pd\n",
    "import numpy as np\n",
    "%config Completer.use_jedi = False \n",
    "import sys\n",
    "from io import BytesIO\n",
    "import requests as rq"
   ]
  },
  {
   "cell_type": "markdown",
   "id": "b88ea8c1-e84e-486f-be42-0a5b2df6f6fb",
   "metadata": {},
   "source": [
    "### Read excel file for molecular weights"
   ]
  },
  {
   "cell_type": "code",
   "execution_count": 2,
   "id": "73156515-eb91-405a-9d50-245a08a9820f",
   "metadata": {},
   "outputs": [
    {
     "name": "stdout",
     "output_type": "stream",
     "text": [
      "                 Name      Short       MW\n",
      "0             totapol       tota   399.60\n",
      "1              amupol        amu   726.00\n",
      "2              tekpol        tek   905.00\n",
      "3         asympol-pok   asymppok   761.91\n",
      "4        casympol-pok   casympok   842.04\n",
      "5         asympol-tek   asymptek   569.79\n",
      "6        casympol-tek  casymptek   649.92\n",
      "7  pyrrhotripol-h-ome    pyrrome  1264.86\n",
      "8      pyrrhotripol-h       pyrr  1280.77\n"
     ]
    }
   ],
   "source": [
    "url=\"https://raw.githubusercontent.com/dnp-grenoble/nmr_and_dnp_tools/main/mol_weight_radicals_dnp.csv\"\n",
    "#df = pd.read_csv('mol_weight_radicals_dnp.csv')\n",
    "#print(df)\n",
    "data = rq.get(url).content\n",
    "df = pd.read_csv(BytesIO(data))\n",
    "print(df)"
   ]
  },
  {
   "cell_type": "markdown",
   "id": "96ca7f1f-940c-4c7d-9d34-d0f0a07280de",
   "metadata": {},
   "source": [
    "#### Input biradical name, concentration in mM and volume in $\\mu$l "
   ]
  },
  {
   "cell_type": "code",
   "execution_count": 4,
   "id": "dbb251fe-642a-4287-bfeb-ec79e9c23729",
   "metadata": {},
   "outputs": [
    {
     "name": "stdin",
     "output_type": "stream",
     "text": [
      "Biradical:  amu\n",
      "Concentration in mM:  10\n",
      "Volume in microlitres:  100\n"
     ]
    },
    {
     "name": "stdout",
     "output_type": "stream",
     "text": [
      "The weight needed is 0.73 mg\n",
      "                 Name      Short       MW  Weight 10.0 mM 100.0 ul\n",
      "0             totapol       tota   399.60                  0.39960\n",
      "1              amupol        amu   726.00                  0.72600\n",
      "2              tekpol        tek   905.00                  0.90500\n",
      "3         asympol-pok   asymppok   761.91                  0.76191\n",
      "4        casympol-pok   casympok   842.04                  0.84204\n",
      "5         asympol-tek   asymptek   569.79                  0.56979\n",
      "6        casympol-tek  casymptek   649.92                  0.64992\n",
      "7  pyrrhotripol-h-ome    pyrrome  1264.86                  1.26486\n",
      "8      pyrrhotripol-h       pyrr  1280.77                  1.28077\n"
     ]
    }
   ],
   "source": [
    "rad = input('Biradical: ')\n",
    "conc = float(input('Concentration in mM: '))\n",
    "volume = float(input('Volume in microlitres: '))\n",
    "\n",
    "rad_name=df[\"Short\"]\n",
    "rad_weight=df[\"MW\"]\n",
    "w_idx = rad_name[rad_name.str.fullmatch(rad)].index\n",
    "\n",
    "if w_idx.empty == True:\n",
    "    sys.exit(\"Biradical not found, try to make it\")\n",
    "    \n",
    "w_mg=conc*volume*rad_weight[w_idx]/1e6\n",
    "w_all=conc*volume*rad_weight/1e6\n",
    "print('The weight needed is ' + str(round(w_mg.iloc[0],2)) + ' mg')\n",
    "df['Weight '+str(conc)+' mM '+str(volume)+ ' ul']=w_all\n",
    "print(df)"
   ]
  },
  {
   "cell_type": "code",
   "execution_count": null,
   "id": "4544f0fb-b88e-4d9c-acfe-65fce1e3c09c",
   "metadata": {},
   "outputs": [],
   "source": []
  },
  {
   "cell_type": "code",
   "execution_count": null,
   "id": "81307c7e-6164-4e2e-99cd-47d9ae1f2b59",
   "metadata": {},
   "outputs": [],
   "source": []
  }
 ],
 "metadata": {
  "kernelspec": {
   "display_name": "Python 3 (ipykernel)",
   "language": "python",
   "name": "python3"
  },
  "language_info": {
   "codemirror_mode": {
    "name": "ipython",
    "version": 3
   },
   "file_extension": ".py",
   "mimetype": "text/x-python",
   "name": "python",
   "nbconvert_exporter": "python",
   "pygments_lexer": "ipython3",
   "version": "3.9.7"
  }
 },
 "nbformat": 4,
 "nbformat_minor": 5
}
