{
 "cells": [
  {
   "cell_type": "markdown",
   "id": "d8932b7c-f9f9-4db3-95eb-02de3229966d",
   "metadata": {
    "tags": []
   },
   "source": [
    "### Python Library"
   ]
  },
  {
   "cell_type": "code",
   "execution_count": 1,
   "id": "c49bfaa9-b22e-4a31-bce9-b65641d21b3c",
   "metadata": {},
   "outputs": [],
   "source": [
    "import pandas as pd\n",
    "import numpy as np\n",
    "import matplotlib.pyplot as plt\n",
    "import seaborn as sns\n",
    "sns.set_theme(style=\"darkgrid\")\n",
    "#from scipy.optimize import curve_fit\n",
    "from lmfit import Model\n",
    "from sympy import symbols, diff, exp, sqrt, lambdify"
   ]
  },
  {
   "cell_type": "markdown",
   "id": "c0ae7bd1-f55b-49c3-8766-c9dad54417d4",
   "metadata": {},
   "source": [
    "### Definitions of functions which will be used for fitting"
   ]
  },
  {
   "cell_type": "markdown",
   "id": "388acd7d-4825-4c9e-a6e7-d701f4820579",
   "metadata": {},
   "source": [
    "#### Bi-exponential\n",
    "$I(t) = I_{0,a}(1-\\exp(-t/T_{1,a})) + I_{0,b}(1-\\exp(-t/T_{1,b}))$\n",
    "\n",
    "#### Mono-exponential\n",
    "$I(t) = I_{0}(1-\\exp(-t/T_{1}))$\n",
    "\n",
    "#### Stretched exponential\n",
    "$I(t) = I_{0}(1-\\exp(-t/T_{1})^\\beta)$\n"
   ]
  },
  {
   "cell_type": "code",
   "execution_count": 2,
   "id": "06625f10-822e-4c46-9561-66a7ef79d308",
   "metadata": {},
   "outputs": [],
   "source": [
    "def twoexpbuild(x, ampl1, tau1, tau2):             \n",
    "    exponential = ampl1*(1-np.exp(-x/tau1))+(1-ampl1)*(1-np.exp(-x/tau2))\n",
    "    return exponential\n",
    "\n",
    "def monoexpbuild(x, tau):\n",
    "    exponential = 1-np.exp(-x/tau)\n",
    "    return exponential\n",
    "\n",
    "def stretchedexp(x, T1, beta):\n",
    "    exponential = (1-np.exp(-np.power((x/T1),beta)))\n",
    "    return exponential"
   ]
  },
  {
   "cell_type": "markdown",
   "id": "14411ef1-0f51-472c-aacc-7f0729fe1f86",
   "metadata": {},
   "source": [
    "### Calculation of the optimum build up time by finding the minimum in:\n",
    "\n",
    "$|\\frac{dI(t)}{dt}|$"
   ]
  },
  {
   "cell_type": "code",
   "execution_count": 3,
   "id": "1bf24b1a-c9db-4629-bc15-daa16195f567",
   "metadata": {},
   "outputs": [],
   "source": [
    "def optimumrecycledelaytwoexp(x, ampl1, tau1, tau2):\n",
    "    t, b, a, Ta, Tb = symbols ('t b a Ta Tb')\n",
    "    b = 1-a\n",
    "    s=a*(1-exp(-t/Ta))/sqrt(t)+b*(1-exp(-t/Tb))/sqrt(t)\n",
    "    k=diff(s,t)\n",
    "    y=k.subs({Ta:tau1,Tb:tau2,a:ampl1})\n",
    "    lam_x = lambdify(t, y, modules=['numpy'])\n",
    "    x_vals = np.linspace(1, 40, 100000)\n",
    "    y_vals = lam_x(x_vals)\n",
    "    return x_vals[np.argmin(abs(y_vals))]\n",
    "\n",
    "def optimumrecycledelayoneexp(x, tau1):\n",
    "    t, Ta = symbols ('t Ta')\n",
    "    s=(1-exp(-t/Ta))/sqrt(t)\n",
    "    k=diff(s,t)\n",
    "    y=k.subs({Ta:tau1})\n",
    "    lam_x = lambdify(t, y, modules=['numpy'])\n",
    "    x_vals = np.linspace(1, 40, 100000)\n",
    "    y_vals = lam_x(x_vals)\n",
    "    return x_vals[np.argmin(abs(y_vals))]\n",
    "\n",
    "def optimumrecycledelaystrexp(x, tau1, beta):\n",
    "    t, b, Ta = symbols ('t b Ta')\n",
    "    s=(1-exp(-np.power((t/Ta),b)))/sqrt(t)\n",
    "    k=diff(s,t)\n",
    "    y=k.subs({Ta:tau1,b:beta})\n",
    "    lam_x = lambdify(t, y, modules=['numpy'])\n",
    "    x_vals = np.linspace(1, 40, 100000)\n",
    "    y_vals = lam_x(x_vals)\n",
    "    return x_vals[np.argmin(abs(y_vals))]"
   ]
  },
  {
   "cell_type": "markdown",
   "id": "ea0ffc3d-f1f4-4950-80ab-7bfe525fccb3",
   "metadata": {},
   "source": [
    "### Read the processed Bruker data in Pandas dataframe"
   ]
  },
  {
   "cell_type": "code",
   "execution_count": 4,
   "id": "666e344b-816e-468e-bcb9-5f07ef112c37",
   "metadata": {},
   "outputs": [],
   "source": [
    "colspecs=[(0, 10),(10, 21), (22, 35), (36, 48), (48, 61)]\n",
    "\n",
    "df=pd.read_fwf('D:/OneDrive/Academics/Data/2022-01-CP-1H-13C-PAVLOT-Indomethacin/1/pdata/1/ct1t2.txt', skiprows=21, skipfooter=3, colspecs=colspecs, names=['Point','Tau','Expt','Calc','Difference'])\n",
    "\n",
    "p=0\n",
    "\n",
    "int_expt=df['Expt']\n",
    "time=df['Tau']\n",
    "int_calc=df['Calc']\n",
    "\n",
    "time_array=np.zeros((time.size,1))\n",
    "for i in time:\n",
    "    if i[-1] in 'm':\n",
    "        time_array[p]=float(i[:-1])*0.001\n",
    "    else:\n",
    "        time_array[p]=float(i[:-1])*1\n",
    "    p+=1"
   ]
  },
  {
   "cell_type": "markdown",
   "id": "15a972e3-550b-4eb3-a06a-430ff102247d",
   "metadata": {},
   "source": [
    "## Ask user for the method to fit the data."
   ]
  },
  {
   "cell_type": "code",
   "execution_count": 5,
   "id": "49e7321e-0e51-409b-bc02-b55cc186c840",
   "metadata": {},
   "outputs": [
    {
     "name": "stdin",
     "output_type": "stream",
     "text": [
      "1 for monoexp, 2 for biexp, 3 for stretched:  3\n"
     ]
    }
   ],
   "source": [
    "#plt.plot(time_array,int_calc, label='Norm. Topspin Calc. Data')\n",
    "\n",
    "ydata=int_expt.to_numpy()\n",
    "xdata=time_array\n",
    "\n",
    "\n",
    "choice=int(input(\"1 for monoexp, 2 for biexp, 3 for stretched: \"))"
   ]
  },
  {
   "cell_type": "code",
   "execution_count": 6,
   "id": "a86d1815-a65f-4af4-9bb2-bd581ee5eb8b",
   "metadata": {},
   "outputs": [
    {
     "name": "stdout",
     "output_type": "stream",
     "text": [
      "T1 is 7.81\n",
      "Stretching factor 0.79\n",
      "The optimum recycle delay should be: 6.31s\n"
     ]
    }
   ],
   "source": [
    "if choice == 1:\n",
    "    exp_build=Model(monoexpbuild)\n",
    "    exp_build.set_param_hint('tau', value=20, min=0.001, max=256.0)\n",
    "    result=exp_build.fit(ydata.flatten(),x=xdata.flatten(),method='nelder')\n",
    "    #plt.plot(time_array,result.best_fit,'--')\n",
    "    t1=result.best_values.get(\"tau\")\n",
    "    optimumd1=optimumrecycledelayoneexp(xdata.flatten(), t1)\n",
    "    #plt.plot(time_array,result.best_fit,'--')\n",
    "    print('T1 is '+ str(round(t1,2))+ 's')\n",
    "    print('The optimum recycle delay should be: '+ str(round(optimumd1,2))+'s')\n",
    "    \n",
    "elif choice == 2:\n",
    "    exp_build=Model(twoexpbuild)\n",
    "    exp_build.set_param_hint('ampl1', value=0.5, min=0.01, max=1)\n",
    "    exp_build.set_param_hint('tau1', value=0.3, min=0.001, max=256.0)\n",
    "    exp_build.set_param_hint('tau2', value=100, min=10, max=256.0)\n",
    "    result=exp_build.fit(ydata.flatten(),x=xdata.flatten(),method='nelder')\n",
    "\n",
    "    a=result.best_values.get(\"ampl1\")\n",
    "    b=1-a\n",
    "    t1a=result.best_values.get(\"tau1\")\n",
    "    t1b=result.best_values.get(\"tau2\")\n",
    "\n",
    "    optimumd1=optimumrecycledelaytwoexp(xdata.flatten(), a, t1a, t1b)\n",
    "    #plt.plot(time_array,result.best_fit,'--')\n",
    "    print('Component 1 ' + str(round(a,2)) +'\\n'+'Component 2 ' + str(round(b,2))+ '\\n'+ 'T1 of 1 '+str(round(t1a,2))+ '\\n'+ 'T1 of 2 '+str(round(t1b,2)))    \n",
    "    print('The optimum recycle delay should be: '+ str(round(optimumd1,2))+'s')\n",
    "elif choice == 3:\n",
    "    exp_build=Model(stretchedexp)\n",
    "    #exp_build.set_param_hint('a1', value=1, min=0.01, max=1)\n",
    "    exp_build.set_param_hint('T1', value=10, min=0.001, max=256.0)\n",
    "    exp_build.set_param_hint('beta', value=0.5, min=0, max=1)\n",
    "    result=exp_build.fit(ydata.flatten(),x=xdata.flatten(),method='nelder')\n",
    "\n",
    "    #a=result.best_values.get(\"a1\")\n",
    "    t1=result.best_values.get(\"T1\")\n",
    "    beta=result.best_values.get(\"beta\")\n",
    "    optimumd1=optimumrecycledelaystrexp(xdata.flatten(), t1, beta)\n",
    "    #plt.plot(time_array,result.best_fit,'--')\n",
    "    print('T1 is '+str(round(t1,2)) + '\\n' + 'Stretching factor ' + str(round(beta,2)))\n",
    "    print('The optimum recycle delay should be: '+ str(round(optimumd1,2))+'s')\n",
    "else:\n",
    "    print('Invalid method')"
   ]
  },
  {
   "cell_type": "markdown",
   "id": "bf9de56a-456b-4cb1-8fa7-71486cfdcc5a",
   "metadata": {},
   "source": [
    "## Plot the data and best fit"
   ]
  },
  {
   "cell_type": "code",
   "execution_count": 7,
   "id": "575400cd-e06e-4b58-93a2-cc14d4bafa0d",
   "metadata": {},
   "outputs": [
    {
     "data": {
      "text/plain": [
       "[<matplotlib.lines.Line2D at 0x265e18457c0>]"
      ]
     },
     "execution_count": 7,
     "metadata": {},
     "output_type": "execute_result"
    },
    {
     "data": {
      "image/png": "[encoded data removed]",
      "text/plain": [
       "<Figure size 432x288 with 1 Axes>"
      ]
     },
     "metadata": {},
     "output_type": "display_data"
    }
   ],
   "source": [
    "plt.plot(time_array,int_expt)\n",
    "plt.plot(time_array,result.best_fit,'--')"
   ]
  }
 ],
 "metadata": {
  "kernelspec": {
   "display_name": "Python 3 (ipykernel)",
   "language": "python",
   "name": "python3"
  },
  "language_info": {
   "codemirror_mode": {
    "name": "ipython",
    "version": 3
   },
   "file_extension": ".py",
   "mimetype": "text/x-python",
   "name": "python",
   "nbconvert_exporter": "python",
   "pygments_lexer": "ipython3",
   "version": "3.9.7"
  }
 },
 "nbformat": 4,
 "nbformat_minor": 5
}
