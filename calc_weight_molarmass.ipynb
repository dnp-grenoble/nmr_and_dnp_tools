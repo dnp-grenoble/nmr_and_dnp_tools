{
 "cells": [
  {
   "cell_type": "code",
   "execution_count": null,
   "id": "be8ffb13-b9b2-423a-a886-07cc5198a50f",
   "metadata": {},
   "outputs": [],
   "source": [
    "import numpy as np\n",
    "\n",
    "conc = float(input ('Concentration in mM: '))\n",
    "volume = float(input ('Volume in microlitres: '))\n",
    "molarmass = float(input ('Molecular weight in g/mol: '))\n",
    "\n",
    "weight = conc*volume*molarmass/1e6\n",
    "\n",
    "print('Weight in mg: ' + str(float(weight)))"
   ]
  },
  {
   "cell_type": "code",
   "execution_count": null,
   "id": "eee23ee2-dd47-4e82-be9d-08f43b6d6312",
   "metadata": {},
   "outputs": [],
   "source": []
  }
 ],
 "metadata": {
  "kernelspec": {
   "display_name": "Python 3 (ipykernel)",
   "language": "python",
   "name": "python3"
  },
  "language_info": {
   "codemirror_mode": {
    "name": "ipython",
    "version": 3
   },
   "file_extension": ".py",
   "mimetype": "text/x-python",
   "name": "python",
   "nbconvert_exporter": "python",
   "pygments_lexer": "ipython3",
   "version": "3.9.13"
  }
 },
 "nbformat": 4,
 "nbformat_minor": 5
}
